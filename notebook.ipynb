{
 "cells": [
  {
   "cell_type": "code",
   "execution_count": 1,
   "metadata": {},
   "outputs": [],
   "source": [
    "import pandas as pd\n",
    "import numpy as np\n",
    "import matplotlib.pyplot as plt\n",
    "import seaborn as sns\n",
    "from sklearn import set_config; set_config(display='diagram')"
   ]
  },
  {
   "cell_type": "code",
   "execution_count": 2,
   "metadata": {},
   "outputs": [],
   "source": [
    "train = pd.read_csv(\"data/train.csv\")\n",
    "test = pd.read_csv(\"data/test.csv\")"
   ]
  },
  {
   "attachments": {},
   "cell_type": "markdown",
   "metadata": {},
   "source": [
    "# EDA"
   ]
  },
  {
   "cell_type": "code",
   "execution_count": 3,
   "metadata": {},
   "outputs": [
    {
     "name": "stdout",
     "output_type": "stream",
     "text": [
      "<class 'pandas.core.frame.DataFrame'>\n",
      "RangeIndex: 22730 entries, 0 to 22729\n",
      "Data columns (total 18 columns):\n",
      " #   Column             Non-Null Count  Dtype  \n",
      "---  ------             --------------  -----  \n",
      " 0   id                 22730 non-null  int64  \n",
      " 1   squareMeters       22730 non-null  int64  \n",
      " 2   numberOfRooms      22730 non-null  int64  \n",
      " 3   hasYard            22730 non-null  int64  \n",
      " 4   hasPool            22730 non-null  int64  \n",
      " 5   floors             22730 non-null  int64  \n",
      " 6   cityCode           22730 non-null  int64  \n",
      " 7   cityPartRange      22730 non-null  int64  \n",
      " 8   numPrevOwners      22730 non-null  int64  \n",
      " 9   made               22730 non-null  int64  \n",
      " 10  isNewBuilt         22730 non-null  int64  \n",
      " 11  hasStormProtector  22730 non-null  int64  \n",
      " 12  basement           22730 non-null  int64  \n",
      " 13  attic              22730 non-null  int64  \n",
      " 14  garage             22730 non-null  int64  \n",
      " 15  hasStorageRoom     22730 non-null  int64  \n",
      " 16  hasGuestRoom       22730 non-null  int64  \n",
      " 17  price              22730 non-null  float64\n",
      "dtypes: float64(1), int64(17)\n",
      "memory usage: 3.1 MB\n"
     ]
    }
   ],
   "source": [
    "train.info()"
   ]
  },
  {
   "cell_type": "code",
   "execution_count": 4,
   "metadata": {},
   "outputs": [
    {
     "name": "stdout",
     "output_type": "stream",
     "text": [
      "<class 'pandas.core.frame.DataFrame'>\n",
      "RangeIndex: 15154 entries, 0 to 15153\n",
      "Data columns (total 17 columns):\n",
      " #   Column             Non-Null Count  Dtype\n",
      "---  ------             --------------  -----\n",
      " 0   id                 15154 non-null  int64\n",
      " 1   squareMeters       15154 non-null  int64\n",
      " 2   numberOfRooms      15154 non-null  int64\n",
      " 3   hasYard            15154 non-null  int64\n",
      " 4   hasPool            15154 non-null  int64\n",
      " 5   floors             15154 non-null  int64\n",
      " 6   cityCode           15154 non-null  int64\n",
      " 7   cityPartRange      15154 non-null  int64\n",
      " 8   numPrevOwners      15154 non-null  int64\n",
      " 9   made               15154 non-null  int64\n",
      " 10  isNewBuilt         15154 non-null  int64\n",
      " 11  hasStormProtector  15154 non-null  int64\n",
      " 12  basement           15154 non-null  int64\n",
      " 13  attic              15154 non-null  int64\n",
      " 14  garage             15154 non-null  int64\n",
      " 15  hasStorageRoom     15154 non-null  int64\n",
      " 16  hasGuestRoom       15154 non-null  int64\n",
      "dtypes: int64(17)\n",
      "memory usage: 2.0 MB\n"
     ]
    }
   ],
   "source": [
    "test.info()"
   ]
  },
  {
   "cell_type": "code",
   "execution_count": 5,
   "metadata": {},
   "outputs": [
    {
     "data": {
      "text/plain": [
       "0"
      ]
     },
     "execution_count": 5,
     "metadata": {},
     "output_type": "execute_result"
    }
   ],
   "source": [
    "train.duplicated().sum()"
   ]
  },
  {
   "cell_type": "code",
   "execution_count": 6,
   "metadata": {},
   "outputs": [
    {
     "data": {
      "text/plain": [
       "0"
      ]
     },
     "execution_count": 6,
     "metadata": {},
     "output_type": "execute_result"
    }
   ],
   "source": [
    "test.duplicated().sum()"
   ]
  },
  {
   "attachments": {},
   "cell_type": "markdown",
   "metadata": {},
   "source": [
    "### No missing values or duplicates to handle"
   ]
  },
  {
   "cell_type": "code",
   "execution_count": 7,
   "metadata": {},
   "outputs": [
    {
     "data": {
      "text/html": [
       "<div>\n",
       "<style scoped>\n",
       "    .dataframe tbody tr th:only-of-type {\n",
       "        vertical-align: middle;\n",
       "    }\n",
       "\n",
       "    .dataframe tbody tr th {\n",
       "        vertical-align: top;\n",
       "    }\n",
       "\n",
       "    .dataframe thead th {\n",
       "        text-align: right;\n",
       "    }\n",
       "</style>\n",
       "<table border=\"1\" class=\"dataframe\">\n",
       "  <thead>\n",
       "    <tr style=\"text-align: right;\">\n",
       "      <th></th>\n",
       "      <th>Outlier_percentage</th>\n",
       "    </tr>\n",
       "  </thead>\n",
       "  <tbody>\n",
       "    <tr>\n",
       "      <th>id</th>\n",
       "      <td>0.000000</td>\n",
       "    </tr>\n",
       "    <tr>\n",
       "      <th>hasStorageRoom</th>\n",
       "      <td>0.000000</td>\n",
       "    </tr>\n",
       "    <tr>\n",
       "      <th>hasStormProtector</th>\n",
       "      <td>0.000000</td>\n",
       "    </tr>\n",
       "    <tr>\n",
       "      <th>isNewBuilt</th>\n",
       "      <td>0.000000</td>\n",
       "    </tr>\n",
       "    <tr>\n",
       "      <th>hasGuestRoom</th>\n",
       "      <td>0.000000</td>\n",
       "    </tr>\n",
       "    <tr>\n",
       "      <th>cityPartRange</th>\n",
       "      <td>0.000000</td>\n",
       "    </tr>\n",
       "    <tr>\n",
       "      <th>numPrevOwners</th>\n",
       "      <td>0.000000</td>\n",
       "    </tr>\n",
       "    <tr>\n",
       "      <th>hasPool</th>\n",
       "      <td>0.000000</td>\n",
       "    </tr>\n",
       "    <tr>\n",
       "      <th>hasYard</th>\n",
       "      <td>0.000000</td>\n",
       "    </tr>\n",
       "    <tr>\n",
       "      <th>numberOfRooms</th>\n",
       "      <td>0.000000</td>\n",
       "    </tr>\n",
       "    <tr>\n",
       "      <th>price</th>\n",
       "      <td>0.000000</td>\n",
       "    </tr>\n",
       "    <tr>\n",
       "      <th>floors</th>\n",
       "      <td>0.004399</td>\n",
       "    </tr>\n",
       "    <tr>\n",
       "      <th>squareMeters</th>\n",
       "      <td>0.004399</td>\n",
       "    </tr>\n",
       "    <tr>\n",
       "      <th>garage</th>\n",
       "      <td>0.008799</td>\n",
       "    </tr>\n",
       "    <tr>\n",
       "      <th>basement</th>\n",
       "      <td>0.017598</td>\n",
       "    </tr>\n",
       "    <tr>\n",
       "      <th>made</th>\n",
       "      <td>0.021997</td>\n",
       "    </tr>\n",
       "    <tr>\n",
       "      <th>cityCode</th>\n",
       "      <td>0.026397</td>\n",
       "    </tr>\n",
       "    <tr>\n",
       "      <th>attic</th>\n",
       "      <td>0.030796</td>\n",
       "    </tr>\n",
       "  </tbody>\n",
       "</table>\n",
       "</div>"
      ],
      "text/plain": [
       "                   Outlier_percentage\n",
       "id                           0.000000\n",
       "hasStorageRoom               0.000000\n",
       "hasStormProtector            0.000000\n",
       "isNewBuilt                   0.000000\n",
       "hasGuestRoom                 0.000000\n",
       "cityPartRange                0.000000\n",
       "numPrevOwners                0.000000\n",
       "hasPool                      0.000000\n",
       "hasYard                      0.000000\n",
       "numberOfRooms                0.000000\n",
       "price                        0.000000\n",
       "floors                       0.004399\n",
       "squareMeters                 0.004399\n",
       "garage                       0.008799\n",
       "basement                     0.017598\n",
       "made                         0.021997\n",
       "cityCode                     0.026397\n",
       "attic                        0.030796"
      ]
     },
     "execution_count": 7,
     "metadata": {},
     "output_type": "execute_result"
    }
   ],
   "source": [
    "#FUNCTION TO DETECT OUTLIERS\n",
    "def detect_outliers(data):\n",
    "    outlier_percents = {}\n",
    "    for column in data.columns:\n",
    "        q1 = np.quantile(data[column], 0.25)\n",
    "        q3 = np.quantile(data[column], 0.75)\n",
    "        iqr = q3 - q1\n",
    "        lower_bound = q1 - 1.5 * iqr\n",
    "        upper_bound = q3 + 1.5 * iqr\n",
    "        outliers = data[(data[column] < lower_bound) | (data[column] > upper_bound)]\n",
    "        outlier_percent = (outliers.shape[0] / data.shape[0]) * 100\n",
    "        outlier_percents[column] = outlier_percent\n",
    "        \n",
    "    outlier_dataframe = pd.DataFrame(data = outlier_percents.values() ,index=outlier_percents.keys() ,columns=['Outlier_percentage'])\n",
    "    \n",
    "    return outlier_dataframe.sort_values(by = 'Outlier_percentage')\n",
    "\n",
    "\n",
    "detect_outliers(train)"
   ]
  },
  {
   "cell_type": "code",
   "execution_count": 8,
   "metadata": {},
   "outputs": [],
   "source": [
    "def outlier_removal(data , i):\n",
    "    q1 = np.quantile(data[i] ,0.25)\n",
    "    q3 = np.quantile(data[i] , 0.75)\n",
    "    iqr = q3-q1\n",
    "    lower_tail = q1 - 1.5*iqr\n",
    "    upper_tail = q3 + 1.5*iqr\n",
    "    data.drop(data[data[i]> upper_tail].index , inplace = True)\n",
    "    data.drop(data[data[i]< lower_tail].index ,inplace =True)\n",
    "    \n",
    "outlier_list = ['squareMeters' ,'floors','garage' ,'basement' ,'made' ,'cityCode' ,'attic']\n",
    "for  i in outlier_list:\n",
    "    outlier_removal(train ,i)"
   ]
  },
  {
   "attachments": {},
   "cell_type": "markdown",
   "metadata": {},
   "source": [
    "### Outliers removed on train data"
   ]
  },
  {
   "cell_type": "code",
   "execution_count": null,
   "metadata": {},
   "outputs": [],
   "source": []
  },
  {
   "cell_type": "code",
   "execution_count": null,
   "metadata": {},
   "outputs": [],
   "source": []
  }
 ],
 "metadata": {
  "kernelspec": {
   "display_name": "thomas",
   "language": "python",
   "name": "python3"
  },
  "language_info": {
   "codemirror_mode": {
    "name": "ipython",
    "version": 3
   },
   "file_extension": ".py",
   "mimetype": "text/x-python",
   "name": "python",
   "nbconvert_exporter": "python",
   "pygments_lexer": "ipython3",
   "version": "3.10.6"
  },
  "orig_nbformat": 4,
  "vscode": {
   "interpreter": {
    "hash": "457a16c2b4d0b04e17a5631921816ec43d08a62ddd9a581737408d1448d0a218"
   }
  }
 },
 "nbformat": 4,
 "nbformat_minor": 2
}
